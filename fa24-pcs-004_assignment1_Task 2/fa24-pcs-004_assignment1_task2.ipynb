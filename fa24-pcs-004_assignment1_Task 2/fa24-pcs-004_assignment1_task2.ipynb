{
 "cells": [
  {
   "metadata": {
    "ExecuteTime": {
     "end_time": "2024-09-18T04:53:56.104162Z",
     "start_time": "2024-09-18T04:53:55.907282Z"
    }
   },
   "cell_type": "code",
   "source": [
    "import numpy as np\n",
    "\n",
    "A = np.array([[1, 2, 3, 4],\n",
    "              [5, 6, 7, 8],\n",
    "              [9, 10, 11, 12]])\n",
    "\n",
    "z = np.array([1, 0, 1])"
   ],
   "id": "713a1edd21eed6d7",
   "outputs": [],
   "execution_count": 1
  },
  {
   "metadata": {
    "ExecuteTime": {
     "end_time": "2024-09-18T04:53:56.111818Z",
     "start_time": "2024-09-18T04:53:56.106166Z"
    }
   },
   "cell_type": "code",
   "source": [
    "b = A[:2, :2]\n",
    "\n",
    "C = np.empty_like(A)"
   ],
   "id": "59650ba308f29d7d",
   "outputs": [],
   "execution_count": 2
  },
  {
   "metadata": {
    "ExecuteTime": {
     "end_time": "2024-09-18T04:53:56.328747Z",
     "start_time": "2024-09-18T04:53:56.114821Z"
    }
   },
   "cell_type": "code",
   "source": [
    "\n",
    "for i in range(A.shape[0]):\n",
    "    C[i] = A[i] + z[i]\n"
   ],
   "id": "650ac6c99af87988",
   "outputs": [],
   "execution_count": 3
  },
  {
   "metadata": {
    "ExecuteTime": {
     "end_time": "2024-09-18T04:53:56.460837Z",
     "start_time": "2024-09-18T04:53:56.335751Z"
    }
   },
   "cell_type": "code",
   "source": [
    "X = np.array([[1, 2],\n",
    "              [3, 4]])"
   ],
   "id": "dec281a9f482b2f4",
   "outputs": [],
   "execution_count": 4
  },
  {
   "metadata": {
    "ExecuteTime": {
     "end_time": "2024-09-18T04:53:56.636367Z",
     "start_time": "2024-09-18T04:53:56.465847Z"
    }
   },
   "cell_type": "code",
   "source": [
    "Y = np.array([[5, 6],\n",
    "              [7, 8]])"
   ],
   "id": "9c94110e6855b98a",
   "outputs": [],
   "execution_count": 5
  },
  {
   "metadata": {
    "ExecuteTime": {
     "end_time": "2024-09-18T04:53:56.758003Z",
     "start_time": "2024-09-18T04:53:56.638449Z"
    }
   },
   "cell_type": "code",
   "source": "v = np.array([9, 10])",
   "id": "f15a4ee0c6d68ba",
   "outputs": [],
   "execution_count": 6
  },
  {
   "metadata": {
    "ExecuteTime": {
     "end_time": "2024-09-18T04:53:56.893625Z",
     "start_time": "2024-09-18T04:53:56.760006Z"
    }
   },
   "cell_type": "code",
   "source": [
    "addition_result = X + Y\n",
    "print(\"Addition of X and Y:\\n\", addition_result)"
   ],
   "id": "70ca1abfd2d21e6b",
   "outputs": [
    {
     "name": "stdout",
     "output_type": "stream",
     "text": [
      "Addition of X and Y:\n",
      " [[ 6  8]\n",
      " [10 12]]\n"
     ]
    }
   ],
   "execution_count": 7
  },
  {
   "metadata": {
    "ExecuteTime": {
     "end_time": "2024-09-18T04:53:57.016100Z",
     "start_time": "2024-09-18T04:53:56.896620Z"
    }
   },
   "cell_type": "code",
   "source": [
    "multiplication_result = X @ Y\n",
    "print(\"Multiplication of X and Y:\\n\", multiplication_result)"
   ],
   "id": "187c7abbfa9dcc0e",
   "outputs": [
    {
     "name": "stdout",
     "output_type": "stream",
     "text": [
      "Multiplication of X and Y:\n",
      " [[19 22]\n",
      " [43 50]]\n"
     ]
    }
   ],
   "execution_count": 8
  },
  {
   "metadata": {
    "ExecuteTime": {
     "end_time": "2024-09-18T04:53:57.141227Z",
     "start_time": "2024-09-18T04:53:57.019105Z"
    }
   },
   "cell_type": "code",
   "source": [
    "sqrt_Y = np.sqrt(Y)\n",
    "print(\"Element-wise square root of Y:\\n\", sqrt_Y)"
   ],
   "id": "c7c18fe0ca66a5a6",
   "outputs": [
    {
     "name": "stdout",
     "output_type": "stream",
     "text": [
      "Element-wise square root of Y:\n",
      " [[2.23606798 2.44948974]\n",
      " [2.64575131 2.82842712]]\n"
     ]
    }
   ],
   "execution_count": 9
  },
  {
   "metadata": {
    "ExecuteTime": {
     "end_time": "2024-09-18T04:53:57.307125Z",
     "start_time": "2024-09-18T04:53:57.152230Z"
    }
   },
   "cell_type": "code",
   "source": [
    "dot_product = X @ v\n",
    "print(\"Dot product of X and v:\\n\", dot_product)"
   ],
   "id": "443a011e83d2d9f8",
   "outputs": [
    {
     "name": "stdout",
     "output_type": "stream",
     "text": [
      "Dot product of X and v:\n",
      " [29 67]\n"
     ]
    }
   ],
   "execution_count": 10
  },
  {
   "metadata": {
    "ExecuteTime": {
     "end_time": "2024-09-18T04:53:57.532287Z",
     "start_time": "2024-09-18T04:53:57.312130Z"
    }
   },
   "cell_type": "code",
   "source": [
    "column_sum = np.sum(X, axis=0)\n",
    "print(\"Sum of each column of X:\\n\", column_sum)"
   ],
   "id": "6293220818911d3f",
   "outputs": [
    {
     "name": "stdout",
     "output_type": "stream",
     "text": [
      "Sum of each column of X:\n",
      " [4 6]\n"
     ]
    }
   ],
   "execution_count": 11
  }
 ],
 "metadata": {
  "kernelspec": {
   "display_name": "Python 3",
   "language": "python",
   "name": "python3"
  },
  "language_info": {
   "codemirror_mode": {
    "name": "ipython",
    "version": 2
   },
   "file_extension": ".py",
   "mimetype": "text/x-python",
   "name": "python",
   "nbconvert_exporter": "python",
   "pygments_lexer": "ipython2",
   "version": "2.7.6"
  }
 },
 "nbformat": 4,
 "nbformat_minor": 5
}
