{
 "cells": [
  {
   "metadata": {},
   "cell_type": "code",
   "outputs": [
    {
     "name": "stdout",
     "output_type": "stream",
     "text": [
      "Time error! It can not be zero\n"
     ]
    }
   ],
   "execution_count": 66,
   "source": [
    "def compute(distance, time):\n",
    "    if time == 0:\n",
    "        print('Time error! It can not be zero')\n",
    "    else:\n",
    "        velocity = distance/time\n",
    "        return velocity\n",
    "distance = 120\n",
    "time = 0\n",
    "compute(distance,time)"
   ],
   "id": "80fe24be68c5cbd2"
  },
  {
   "metadata": {},
   "cell_type": "code",
   "outputs": [
    {
     "name": "stdout",
     "output_type": "stream",
     "text": [
      "2\n",
      "4\n",
      "6\n",
      "8\n",
      "10\n",
      "12\n"
     ]
    }
   ],
   "execution_count": 67,
   "source": [
    "even_num = []\n",
    "for num in range(1, 13):\n",
    "    if num % 2 == 0:\n",
    "        even_num.append(num)\n",
    "\n",
    "for num in even_num:\n",
    "    print(num)"
   ],
   "id": "b0252726ab453e27"
  },
  {
   "metadata": {
    "ExecuteTime": {
     "end_time": "2024-09-18T04:08:06.207700Z",
     "start_time": "2024-09-18T04:08:06.037973Z"
    }
   },
   "cell_type": "code",
   "source": [
    "def mult(list_of_even_numbers):\n",
    "    total_multiplication = 1\n",
    "    for num in list_of_even_numbers:\n",
    "        total_multiplication = total_multiplication * num\n",
    "    print(total_multiplication)\n",
    "    \n",
    "mult(even_num)"
   ],
   "id": "ca128444a9e8be64",
   "outputs": [
    {
     "name": "stdout",
     "output_type": "stream",
     "text": [
      "46080\n"
     ]
    }
   ],
   "execution_count": 68
  }
 ],
 "metadata": {
  "kernelspec": {
   "display_name": "Python 3",
   "language": "python",
   "name": "python3"
  },
  "language_info": {
   "codemirror_mode": {
    "name": "ipython",
    "version": 2
   },
   "file_extension": ".py",
   "mimetype": "text/x-python",
   "name": "python",
   "nbconvert_exporter": "python",
   "pygments_lexer": "ipython2",
   "version": "2.7.6"
  }
 },
 "nbformat": 4,
 "nbformat_minor": 5
}
