{
 "cells": [
  {
   "cell_type": "code",
   "id": "initial_id",
   "metadata": {
    "collapsed": true,
    "ExecuteTime": {
     "end_time": "2024-09-18T04:08:03.836708Z",
     "start_time": "2024-09-18T04:08:03.829445Z"
    }
   },
   "source": "nums = [3, 5, 7, 8, 12]",
   "outputs": [],
   "execution_count": 55
  },
  {
   "metadata": {
    "ExecuteTime": {
     "end_time": "2024-09-18T04:08:04.007073Z",
     "start_time": "2024-09-18T04:08:03.960953Z"
    }
   },
   "cell_type": "code",
   "source": "cubes = []",
   "id": "37727169787bb42a",
   "outputs": [],
   "execution_count": 56
  },
  {
   "metadata": {
    "ExecuteTime": {
     "end_time": "2024-09-18T04:08:04.300695Z",
     "start_time": "2024-09-18T04:08:04.116537Z"
    }
   },
   "cell_type": "code",
   "source": [
    "for num in nums:\n",
    "    cubeOfTheNumber = num*num*num\n",
    "    cubes.append(cubeOfTheNumber)"
   ],
   "id": "ffbc82bbe5671dcd",
   "outputs": [],
   "execution_count": 57
  },
  {
   "metadata": {
    "ExecuteTime": {
     "end_time": "2024-09-18T04:08:04.620129Z",
     "start_time": "2024-09-18T04:08:04.575522Z"
    }
   },
   "cell_type": "code",
   "source": [
    "for num in cubes:\n",
    "    print(num)"
   ],
   "id": "6e9cfb165f632787",
   "outputs": [
    {
     "name": "stdout",
     "output_type": "stream",
     "text": [
      "27\n",
      "125\n",
      "343\n",
      "512\n",
      "1728\n"
     ]
    }
   ],
   "execution_count": 58
  },
  {
   "metadata": {
    "ExecuteTime": {
     "end_time": "2024-09-18T04:08:04.818654Z",
     "start_time": "2024-09-18T04:08:04.625117Z"
    }
   },
   "cell_type": "code",
   "source": [
    "dict = {}\n",
    "\n",
    "dict['parrot'] = 2\n",
    "dict['goat'] = 4\n",
    "dict['spider'] = 8\n",
    "dict['crab'] = 10"
   ],
   "id": "498d94b6a6374a2e",
   "outputs": [],
   "execution_count": 59
  },
  {
   "metadata": {
    "ExecuteTime": {
     "end_time": "2024-09-18T04:08:04.974433Z",
     "start_time": "2024-09-18T04:08:04.826646Z"
    }
   },
   "cell_type": "code",
   "source": "sumOfLegs = 0",
   "id": "3eeb984b197761b0",
   "outputs": [],
   "execution_count": 60
  },
  {
   "metadata": {
    "ExecuteTime": {
     "end_time": "2024-09-18T04:08:05.109975Z",
     "start_time": "2024-09-18T04:08:04.977437Z"
    }
   },
   "cell_type": "code",
   "source": [
    "for item in dict.items():\n",
    "    print(item)"
   ],
   "id": "ccf612b9ff008567",
   "outputs": [
    {
     "name": "stdout",
     "output_type": "stream",
     "text": [
      "('parrot', 2)\n",
      "('goat', 4)\n",
      "('spider', 8)\n",
      "('crab', 10)\n"
     ]
    }
   ],
   "execution_count": 61
  },
  {
   "metadata": {
    "ExecuteTime": {
     "end_time": "2024-09-18T04:08:05.242252Z",
     "start_time": "2024-09-18T04:08:05.115979Z"
    }
   },
   "cell_type": "code",
   "source": [
    "for key in dict:\n",
    "    sumOfLegs = sumOfLegs + dict[key]\n",
    "print(sumOfLegs)"
   ],
   "id": "2a6f00cfcb7f4e42",
   "outputs": [
    {
     "name": "stdout",
     "output_type": "stream",
     "text": [
      "24\n"
     ]
    }
   ],
   "execution_count": 62
  },
  {
   "metadata": {
    "ExecuteTime": {
     "end_time": "2024-09-18T04:08:05.362691Z",
     "start_time": "2024-09-18T04:08:05.244254Z"
    }
   },
   "cell_type": "code",
   "source": [
    "A = (3, 9, 4, [5, 6])\n",
    "nums = [3, 6, 12, 24, 12]\n",
    "del A"
   ],
   "id": "7aeeada86deb1cba",
   "outputs": [],
   "execution_count": 63
  },
  {
   "metadata": {
    "ExecuteTime": {
     "end_time": "2024-09-18T04:08:05.521620Z",
     "start_time": "2024-09-18T04:08:05.364696Z"
    }
   },
   "cell_type": "code",
   "source": [
    "B = ('a', 'p', 'p', 'l', 'e')\n",
    "occurrencesOfCharacter = 'p'\n",
    "occurrencesSum = 0\n",
    "for item in B:    \n",
    "    if item == occurrencesOfCharacter:\n",
    "        occurrencesSum = occurrencesSum +1\n",
    "print(occurrencesSum)"
   ],
   "id": "2bd62a27313439cb",
   "outputs": [
    {
     "name": "stdout",
     "output_type": "stream",
     "text": [
      "2\n"
     ]
    }
   ],
   "execution_count": 64
  },
  {
   "metadata": {
    "ExecuteTime": {
     "end_time": "2024-09-18T04:08:05.709544Z",
     "start_time": "2024-09-18T04:08:05.529612Z"
    }
   },
   "cell_type": "code",
   "source": [
    "indexOfCharacter = 'l'\n",
    "indexIs = B.index(indexOfCharacter)\n",
    "print(indexIs)"
   ],
   "id": "104a4bf06ef47c",
   "outputs": [
    {
     "name": "stdout",
     "output_type": "stream",
     "text": [
      "3\n"
     ]
    }
   ],
   "execution_count": 65
  }
 ],
 "metadata": {
  "kernelspec": {
   "display_name": "Python 3",
   "language": "python",
   "name": "python3"
  },
  "language_info": {
   "codemirror_mode": {
    "name": "ipython",
    "version": 2
   },
   "file_extension": ".py",
   "mimetype": "text/x-python",
   "name": "python",
   "nbconvert_exporter": "python",
   "pygments_lexer": "ipython2",
   "version": "2.7.6"
  }
 },
 "nbformat": 4,
 "nbformat_minor": 5
}
